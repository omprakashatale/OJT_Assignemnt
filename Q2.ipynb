{
  "nbformat": 4,
  "nbformat_minor": 0,
  "metadata": {
    "colab": {
      "provenance": [],
      "toc_visible": true,
      "authorship_tag": "ABX9TyPvGHjWhYEmtPo7CA3opL7X",
      "include_colab_link": true
    },
    "kernelspec": {
      "name": "python3",
      "display_name": "Python 3"
    },
    "language_info": {
      "name": "python"
    }
  },
  "cells": [
    {
      "cell_type": "markdown",
      "metadata": {
        "id": "view-in-github",
        "colab_type": "text"
      },
      "source": [
        "<a href=\"https://colab.research.google.com/github/omprakashatale/OJT_Assignemnt/blob/main/Q2.ipynb\" target=\"_parent\"><img src=\"https://colab.research.google.com/assets/colab-badge.svg\" alt=\"Open In Colab\"/></a>"
      ]
    },
    {
      "cell_type": "code",
      "execution_count": null,
      "metadata": {
        "colab": {
          "base_uri": "https://localhost:8080/"
        },
        "id": "6UYt_fxg5T-K",
        "outputId": "622cd3f2-bb4b-47d7-e2a2-d05341edbbe9"
      },
      "outputs": [
        {
          "output_type": "stream",
          "name": "stdout",
          "text": [
            "Original Matrix A:\n",
            "[[5. 8. 9. 5. 0.]\n",
            " [0. 1. 7. 6. 9.]\n",
            " [2. 4. 5. 2. 4.]\n",
            " [2. 4. 7. 7. 9.]\n",
            " [1. 7. 0. 6. 9.]]\n",
            "\n",
            "Row Echelon Form of Matrix A:\n",
            "[[ 1.          1.6         1.8         1.          0.        ]\n",
            " [ 0.          1.          7.          6.          9.        ]\n",
            " [-0.         -0.          1.          1.14285714  0.76190476]\n",
            " [ 0.          0.          0.          1.          1.28070175]\n",
            " [-0.         -0.         -0.         -0.          1.        ]]\n"
          ]
        }
      ],
      "source": [
        "import numpy as np\n",
        "A = np.array([[5, 8, 9, 5, 0],\n",
        "              [0, 1, 7, 6, 9],\n",
        "              [2, 4, 5, 2, 4],\n",
        "              [2, 4, 7, 7, 9],\n",
        "              [1, 7, 0, 6, 9]], dtype=float)\n",
        "print(\"Original Matrix A:\")\n",
        "print(A)\n",
        "rows, cols = A.shape\n",
        "for i in range(min(rows, cols)):\n",
        "    pivot_row = i\n",
        "    while pivot_row < rows and A[pivot_row, i] == 0:\n",
        "        pivot_row += 1\n",
        "\n",
        "    if pivot_row == rows:\n",
        "        continue\n",
        "    A[[i, pivot_row]] = A[[pivot_row, i]]\n",
        "\n",
        "    A[i] /= A[i, i]\n",
        "\n",
        "    for j in range(i + 1, rows):\n",
        "        A[j] -= A[j, i] * A[i]\n",
        "\n",
        "print(\"\\nRow Echelon Form of Matrix A:\")\n",
        "print(A)"
      ]
    },
    {
      "cell_type": "code",
      "source": [],
      "metadata": {
        "id": "U7kKVdSF5YrF"
      },
      "execution_count": null,
      "outputs": []
    }
  ]
}