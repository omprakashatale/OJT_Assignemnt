{
  "nbformat": 4,
  "nbformat_minor": 0,
  "metadata": {
    "colab": {
      "provenance": []
    },
    "kernelspec": {
      "name": "python3",
      "display_name": "Python 3"
    },
    "language_info": {
      "name": "python"
    }
  },
  "cells": [
    {
      "cell_type": "code",
      "execution_count": null,
      "metadata": {
        "colab": {
          "base_uri": "https://localhost:8080/"
        },
        "id": "hEQNnme95fKd",
        "outputId": "3ee4e6b9-b8b7-4177-d53e-eb0f3c0ec5ea"
      },
      "outputs": [
        {
          "output_type": "stream",
          "name": "stdout",
          "text": [
            "Matrix U:\n",
            "[[-0.43689897  0.83058378 -0.13125236  0.27232378 -0.1669205 ]\n",
            " [-0.4700234  -0.31059166  0.58397429  0.12469234 -0.57099621]\n",
            " [-0.30524405  0.14764731  0.01865437 -0.94044831 -0.01534021]\n",
            " [-0.55156434 -0.14864436  0.20839702  0.14709456  0.78013813]\n",
            " [-0.43680675 -0.41202977 -0.7732849   0.06489791 -0.19300273]]\n",
            "\n",
            "Matrix Σ:\n",
            "[[25.28145148  0.          0.          0.          0.        ]\n",
            " [ 0.         10.21162074  0.          0.          0.        ]\n",
            " [ 0.          0.          6.75929996  0.          0.        ]\n",
            " [ 0.          0.          0.          1.88976353  0.        ]\n",
            " [ 0.          0.          0.          0.          0.55827467]]\n",
            "\n",
            "Matrix V^T:\n",
            "[[-0.17146636 -0.41335032 -0.49876192 -0.4784897  -0.56747243]\n",
            " [ 0.3661412   0.33744712  0.48952449 -0.09087936 -0.71005407]\n",
            " [-0.14431138 -0.73540653  0.65962449 -0.04379707  0.03645277]\n",
            " [-0.0847676  -0.22005245 -0.18458357  0.87202745 -0.38715425]\n",
            " [ 0.89918218 -0.35500016 -0.20597756  0.02094019  0.15026992]]\n",
            "\n",
            "Is A equal to U * Σ * V^T?\n",
            "True\n"
          ]
        }
      ],
      "source": [
        "#Q3\n",
        "import numpy as np\n",
        "A = np.array([[5, 8, 9, 5, 0],\n",
        "              [0, 1, 7, 6, 9],\n",
        "              [2, 4, 5, 2, 4],\n",
        "              [2, 4, 7, 7, 9],\n",
        "              [1, 7, 0, 6, 9]], dtype=float)\n",
        "U, S, Vt = np.linalg.svd(A)\n",
        "Sigma = np.diag(S)\n",
        "reconstructed_A = np.dot(U, np.dot(Sigma, Vt))\n",
        "print(\"Matrix U:\")\n",
        "print(U)\n",
        "print(\"\\nMatrix Σ:\")\n",
        "print(Sigma)\n",
        "print(\"\\nMatrix V^T:\")\n",
        "print(Vt)\n",
        "print(\"\\nIs A equal to U * Σ * V^T?\")\n",
        "print(np.allclose(A, reconstructed_A))\n"
      ]
    },
    {
      "cell_type": "code",
      "source": [
        "import numpy as np\n",
        "A = np.array([[5, 8, 9, 5, 0],\n",
        "              [0, 1, 7, 6, 9],\n",
        "              [2, 4, 5, 2, 4],\n",
        "              [2, 4, 7, 7, 9],\n",
        "              [1, 7, 0, 6, 9]], dtype=float)\n",
        "U, S, Vt = np.linalg.svd(A)\n",
        "rank_2_approximation = np.dot(U[:, :2], np.dot(np.diag(S[:2]), Vt[:2, :]))\n",
        "rank_3_approximation = np.dot(U[:, :3], np.dot(np.diag(S[:3]), Vt[:3, :]))\n",
        "print(\"Rank-2 Approximation:\")\n",
        "print(rank_2_approximation)\n",
        "print(\"\\nRank-3 Approximation:\")\n",
        "print(rank_3_approximation)\n",
        "\n"
      ],
      "metadata": {
        "colab": {
          "base_uri": "https://localhost:8080/"
        },
        "id": "fUFas96G5q-G",
        "outputId": "5e4b1eb6-4c26-4ad9-e828-5af9411681c1"
      },
      "execution_count": null,
      "outputs": [
        {
          "output_type": "stream",
          "name": "stdout",
          "text": [
            "Rank-2 Approximation:\n",
            "[[4.99938695 7.42772986 9.66099901 4.51432639 0.24558347]\n",
            " [0.87624348 3.84152746 4.3741274  5.97406978 8.99524213]\n",
            " [1.87524585 3.69860485 4.58701709 3.55549065 3.30863039]\n",
            " [1.83522076 5.25168941 6.21186019 6.81017234 8.9908235 ]\n",
            " [0.35298555 3.1448665  3.44821178 5.66638796 9.25420632]]\n",
            "\n",
            "Rank-3 Approximation:\n",
            "[[5.12741627e+00 8.08016348e+00 9.07579726e+00 4.55318202e+00\n",
            "  2.13243514e-01]\n",
            " [3.06609305e-01 9.38688581e-01 6.97783506e+00 5.80119146e+00\n",
            "  9.13913060e+00]\n",
            " [1.85704955e+00 3.60587706e+00 4.67018948e+00 3.54996825e+00\n",
            "  3.31322674e+00]\n",
            " [1.63194115e+00 4.21578255e+00 7.14101911e+00 6.74847899e+00\n",
            "  9.04217153e+00]\n",
            " [1.10728161e+00 6.98873686e+00 4.43862316e-04 5.89530934e+00\n",
            "  9.06367262e+00]]\n"
          ]
        }
      ]
    },
    {
      "cell_type": "code",
      "source": [],
      "metadata": {
        "id": "fDSOXDAw5xPU"
      },
      "execution_count": null,
      "outputs": []
    }
  ]
}